{
  "nbformat": 4,
  "nbformat_minor": 0,
  "metadata": {
    "colab": {
      "name": "Untitled1.ipynb",
      "provenance": [],
      "authorship_tag": "ABX9TyPSurv+zLh5+LypJilcZiDV",
      "include_colab_link": true
    },
    "kernelspec": {
      "name": "python3",
      "display_name": "Python 3"
    },
    "language_info": {
      "name": "python"
    }
  },
  "cells": [
    {
      "cell_type": "markdown",
      "metadata": {
        "id": "view-in-github",
        "colab_type": "text"
      },
      "source": [
        "<a href=\"https://colab.research.google.com/github/410648082/Introduction-to-computers/blob/main/%E5%85%AC%E8%A1%8C3B%20410648082%20%E4%BB%87%E5%85%8B%E5%8B%A4.ipynb\" target=\"_parent\"><img src=\"https://colab.research.google.com/assets/colab-badge.svg\" alt=\"Open In Colab\"/></a>"
      ]
    },
    {
      "cell_type": "code",
      "execution_count": 1,
      "metadata": {
        "colab": {
          "base_uri": "https://localhost:8080/"
        },
        "id": "-OlwCNG-ePnd",
        "outputId": "59db8d0a-7aa8-4550-fc5e-c83d14e658f1"
      },
      "outputs": [
        {
          "output_type": "stream",
          "name": "stdout",
          "text": [
            "公行3B\n",
            "410648082\n",
            "仇克勤\n"
          ]
        }
      ],
      "source": [
        "sum=(\"公行3B\")  #班級\n",
        "Sum=410648082  #學號\n",
        "SUM=(\"仇克勤\") #姓名 \n",
        "print(sum)\n",
        "print(Sum)\n",
        "print(SUM)"
      ]
    }
  ]
}