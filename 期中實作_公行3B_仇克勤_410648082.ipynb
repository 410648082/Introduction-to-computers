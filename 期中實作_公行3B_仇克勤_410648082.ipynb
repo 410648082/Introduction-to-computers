{
  "nbformat": 4,
  "nbformat_minor": 0,
  "metadata": {
    "colab": {
      "name": "期中實作_公行3B_仇克勤_410648082.ipynb",
      "provenance": [],
      "authorship_tag": "ABX9TyPfjvFGjBDv+LI4dUx19Bji",
      "include_colab_link": true
    },
    "kernelspec": {
      "name": "python3",
      "display_name": "Python 3"
    },
    "language_info": {
      "name": "python"
    }
  },
  "cells": [
    {
      "cell_type": "markdown",
      "metadata": {
        "id": "view-in-github",
        "colab_type": "text"
      },
      "source": [
        "<a href=\"https://colab.research.google.com/github/410648082/Introduction-to-computers/blob/main/%E6%9C%9F%E4%B8%AD%E5%AF%A6%E4%BD%9C_%E5%85%AC%E8%A1%8C3B_%E4%BB%87%E5%85%8B%E5%8B%A4_410648082.ipynb\" target=\"_parent\"><img src=\"https://colab.research.google.com/assets/colab-badge.svg\" alt=\"Open In Colab\"/></a>"
      ]
    },
    {
      "cell_type": "code",
      "execution_count": 3,
      "metadata": {
        "colab": {
          "base_uri": "https://localhost:8080/"
        },
        "id": "FBX9rPu0YXF4",
        "outputId": "41d211a5-d586-4ee9-bb9f-6f487973c360"
      },
      "outputs": [
        {
          "output_type": "stream",
          "name": "stdout",
          "text": [
            "班級:公行3B\n",
            "姓名:仇克勤\n",
            "學號:410648082\n"
          ]
        }
      ],
      "source": [
        "print(\"班級:公行3B\",\"姓名:仇克勤\",\"學號:410648082\",sep = \"\\n\")\n"
      ]
    },
    {
      "cell_type": "code",
      "source": [
        "test1 = int(input(\"請輸入月份\"))\n",
        "test2 = int(input(\"請輸入日期\"))\n",
        "test3 = int(input(\"請輸入今天是星期幾\"))\n",
        "print(\"今天是\",test1,\"月\",test2,\"日\",\"星期\",test3,sep = \"\")"
      ],
      "metadata": {
        "colab": {
          "base_uri": "https://localhost:8080/"
        },
        "id": "A3KKRVVrercQ",
        "outputId": "8db631d1-0623-44f5-d66e-98cde2cc3750"
      },
      "execution_count": 4,
      "outputs": [
        {
          "output_type": "stream",
          "name": "stdout",
          "text": [
            "請輸入月份5\n",
            "請輸入日期4\n",
            "請輸入今天是星期幾3\n",
            "今天是5月4日星期3\n"
          ]
        }
      ]
    },
    {
      "cell_type": "code",
      "source": [
        "上底 = int(input(\"請輸入梯形上底長度\"))\n",
        "下底 = int(input(\"請輸入梯形下底長度\"))\n",
        "高 = int(input(\"請輸入梯形的高度\"))\n",
        "面積 = (上底+下底)*高/2\n",
        "print(\"請輸入梯形上底長度:%d,請輸入梯形下底長度%d,請輸入梯形的高度%d,梯形面積為:%0.2f\" %(上底,下底,高,面積))"
      ],
      "metadata": {
        "colab": {
          "base_uri": "https://localhost:8080/"
        },
        "id": "pzBsp77Agr1c",
        "outputId": "bc592338-12a4-43dd-8729-828f8ebc0938"
      },
      "execution_count": 9,
      "outputs": [
        {
          "output_type": "stream",
          "name": "stdout",
          "text": [
            "請輸入梯形上底長度4\n",
            "請輸入梯形下底長度5\n",
            "請輸入梯形的高度4\n",
            "請輸入梯形上底長度:4,請輸入梯形下底長度5,請輸入梯形的高度4,梯形面積為:18.00\n"
          ]
        }
      ]
    },
    {
      "cell_type": "code",
      "source": [
        "身高 = float(input(\"請輸入身高(cm):\"))\n",
        "體重 = float(input(\"請輸入體重(kg):\"))\n",
        "BMI = 體重 / (身高/100)**2\n",
        "print(\"身高:%d公分,體重:%d公斤,BMI值為:%0.3f\" %(身高,體重,BMI))"
      ],
      "metadata": {
        "colab": {
          "base_uri": "https://localhost:8080/"
        },
        "id": "3WmeMwxZj_vj",
        "outputId": "85652f6b-2827-4cf2-c4bb-690be494844a"
      },
      "execution_count": 11,
      "outputs": [
        {
          "output_type": "stream",
          "name": "stdout",
          "text": [
            "請輸入身高(cm):180\n",
            "請輸入體重(kg):60\n",
            "身高:180公分,體重:60公斤,BMI值為:18.519\n"
          ]
        }
      ]
    },
    {
      "cell_type": "code",
      "source": [
        "number = int(input(\"請輸入正整數:\"))\n",
        "if(number %2 == 0):\n",
        "  print(\"是偶數\")\n",
        "else:\n",
        "  peint(\"是奇數\")\n",
        "number = int(input(\"請輸入正整數:\"))\n",
        "if(number %2 == 0):\n",
        "  print(\"是偶數\")\n",
        "else:\n",
        "  print(\"是奇數\")"
      ],
      "metadata": {
        "colab": {
          "base_uri": "https://localhost:8080/"
        },
        "id": "Nnu43gNul5Qy",
        "outputId": "3fb11599-3400-4430-f5de-9d81bc40fc37"
      },
      "execution_count": 14,
      "outputs": [
        {
          "output_type": "stream",
          "name": "stdout",
          "text": [
            "請輸入正整數:50\n",
            "是偶數\n",
            "請輸入正整數:51\n",
            "是奇數\n"
          ]
        }
      ]
    },
    {
      "cell_type": "code",
      "source": [
        "number = float(input(\"請輸入你的體溫\"))\n",
        "if(number > 37.5 or number < 36.0):\n",
        "  print(\"體溫異常,請重新測量!\")\n",
        "else:\n",
        "  print(\"體溫正常,請進校園!\")\n",
        "number = float(input(\"請輸入你的體溫\"))\n",
        "if(number > 37.5 or number < 36.0):\n",
        "  print(\"體溫異常,請重新測量!\")\n",
        "else:\n",
        "  print(\"體溫正常,請進校園\")"
      ],
      "metadata": {
        "colab": {
          "base_uri": "https://localhost:8080/"
        },
        "id": "0R0CNCn_nf_-",
        "outputId": "425f078d-4b41-48d0-bc46-6d2fa12de735"
      },
      "execution_count": 24,
      "outputs": [
        {
          "output_type": "stream",
          "name": "stdout",
          "text": [
            "請輸入你的體溫34\n",
            "體溫異常,請重新測量!\n",
            "請輸入你的體溫37.4\n",
            "體溫正常,請進校園\n"
          ]
        }
      ]
    }
  ]
}